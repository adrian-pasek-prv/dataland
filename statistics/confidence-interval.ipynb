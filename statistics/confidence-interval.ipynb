{
 "cells": [
  {
   "cell_type": "markdown",
   "id": "e97c0ca7",
   "metadata": {},
   "source": [
    "### 1. Getting the data"
   ]
  },
  {
   "cell_type": "code",
   "execution_count": 1,
   "id": "9b65e4dd",
   "metadata": {},
   "outputs": [],
   "source": [
    "# Ignore depreciation warning\n",
    "import warnings\n",
    "warnings.filterwarnings('ignore')"
   ]
  },
  {
   "cell_type": "code",
   "execution_count": 2,
   "id": "bad79295",
   "metadata": {},
   "outputs": [],
   "source": [
    "%matplotlib inline\n",
    "\n",
    "import pandas as pd\n",
    "import numpy as np\n",
    "import requests\n",
    "import matplotlib.pyplot as plt\n",
    "import seaborn as sns"
   ]
  },
  {
   "cell_type": "code",
   "execution_count": 3,
   "id": "5ce3da30",
   "metadata": {},
   "outputs": [],
   "source": [
    "# Get the data from justjoin.it API\n",
    "response = requests.get('https://justjoin.it/api/offers')\n",
    "json = response.json()"
   ]
  },
  {
   "cell_type": "code",
   "execution_count": 4,
   "id": "1b1623a8",
   "metadata": {},
   "outputs": [
    {
     "data": {
      "text/html": [
       "<div>\n",
       "<style scoped>\n",
       "    .dataframe tbody tr th:only-of-type {\n",
       "        vertical-align: middle;\n",
       "    }\n",
       "\n",
       "    .dataframe tbody tr th {\n",
       "        vertical-align: top;\n",
       "    }\n",
       "\n",
       "    .dataframe thead th {\n",
       "        text-align: right;\n",
       "    }\n",
       "</style>\n",
       "<table border=\"1\" class=\"dataframe\">\n",
       "  <thead>\n",
       "    <tr style=\"text-align: right;\">\n",
       "      <th></th>\n",
       "      <th>title</th>\n",
       "      <th>street</th>\n",
       "      <th>city</th>\n",
       "      <th>country_code</th>\n",
       "      <th>address_text</th>\n",
       "      <th>marker_icon</th>\n",
       "      <th>workplace_type</th>\n",
       "      <th>company_name</th>\n",
       "      <th>company_url</th>\n",
       "      <th>company_size</th>\n",
       "      <th>...</th>\n",
       "      <th>remote_interview</th>\n",
       "      <th>open_to_hire_ukrainians</th>\n",
       "      <th>id</th>\n",
       "      <th>display_offer</th>\n",
       "      <th>employment_types</th>\n",
       "      <th>company_logo_url</th>\n",
       "      <th>skills</th>\n",
       "      <th>remote</th>\n",
       "      <th>multilocation</th>\n",
       "      <th>way_of_apply</th>\n",
       "    </tr>\n",
       "  </thead>\n",
       "  <tbody>\n",
       "    <tr>\n",
       "      <th>0</th>\n",
       "      <td>.NET Developer</td>\n",
       "      <td>Swobodna, 1</td>\n",
       "      <td>Wrocław</td>\n",
       "      <td>PL</td>\n",
       "      <td>Swobodna, 1, Wrocław</td>\n",
       "      <td>net</td>\n",
       "      <td>remote</td>\n",
       "      <td>LeverX Group</td>\n",
       "      <td>http://leverx.com</td>\n",
       "      <td>1500+</td>\n",
       "      <td>...</td>\n",
       "      <td>True</td>\n",
       "      <td>False</td>\n",
       "      <td>leverx-group-net-developer</td>\n",
       "      <td>True</td>\n",
       "      <td>[{'type': 'permanent', 'salary': None}]</td>\n",
       "      <td>https://bucket.justjoin.it/offers/company_logo...</td>\n",
       "      <td>[{'name': 'Azure', 'level': 3}, {'name': 'ASP....</td>\n",
       "      <td>True</td>\n",
       "      <td>[{'city': 'Wrocław', 'street': 'Swobodna, 1', ...</td>\n",
       "      <td>form</td>\n",
       "    </tr>\n",
       "    <tr>\n",
       "      <th>1</th>\n",
       "      <td>Application Support Specialist</td>\n",
       "      <td>Krolowej Jadwigi</td>\n",
       "      <td>Poznań</td>\n",
       "      <td>PL</td>\n",
       "      <td>Krolowej Jadwigi, Poznań</td>\n",
       "      <td>support</td>\n",
       "      <td>partly_remote</td>\n",
       "      <td>Guestline</td>\n",
       "      <td>http://www.guestline.com</td>\n",
       "      <td>200+</td>\n",
       "      <td>...</td>\n",
       "      <td>True</td>\n",
       "      <td>False</td>\n",
       "      <td>guestline-application-support-specialist-poznan</td>\n",
       "      <td>True</td>\n",
       "      <td>[{'type': 'permanent', 'salary': {'from': 9500...</td>\n",
       "      <td>https://bucket.justjoin.it/offers/company_logo...</td>\n",
       "      <td>[{'name': 'SQL', 'level': 2}, {'name': 'MS Win...</td>\n",
       "      <td>False</td>\n",
       "      <td>[{'city': 'Poznań', 'street': 'Krolowej Jadwig...</td>\n",
       "      <td>redirect</td>\n",
       "    </tr>\n",
       "  </tbody>\n",
       "</table>\n",
       "<p>2 rows × 24 columns</p>\n",
       "</div>"
      ],
      "text/plain": [
       "                            title            street     city country_code  \\\n",
       "0                  .NET Developer       Swobodna, 1  Wrocław           PL   \n",
       "1  Application Support Specialist  Krolowej Jadwigi   Poznań           PL   \n",
       "\n",
       "               address_text marker_icon workplace_type  company_name  \\\n",
       "0      Swobodna, 1, Wrocław         net         remote  LeverX Group   \n",
       "1  Krolowej Jadwigi, Poznań     support  partly_remote     Guestline   \n",
       "\n",
       "                company_url company_size  ... remote_interview  \\\n",
       "0         http://leverx.com        1500+  ...             True   \n",
       "1  http://www.guestline.com         200+  ...             True   \n",
       "\n",
       "  open_to_hire_ukrainians                                               id  \\\n",
       "0                   False                       leverx-group-net-developer   \n",
       "1                   False  guestline-application-support-specialist-poznan   \n",
       "\n",
       "  display_offer                                   employment_types  \\\n",
       "0          True            [{'type': 'permanent', 'salary': None}]   \n",
       "1          True  [{'type': 'permanent', 'salary': {'from': 9500...   \n",
       "\n",
       "                                    company_logo_url  \\\n",
       "0  https://bucket.justjoin.it/offers/company_logo...   \n",
       "1  https://bucket.justjoin.it/offers/company_logo...   \n",
       "\n",
       "                                              skills  remote  \\\n",
       "0  [{'name': 'Azure', 'level': 3}, {'name': 'ASP....    True   \n",
       "1  [{'name': 'SQL', 'level': 2}, {'name': 'MS Win...   False   \n",
       "\n",
       "                                       multilocation way_of_apply  \n",
       "0  [{'city': 'Wrocław', 'street': 'Swobodna, 1', ...         form  \n",
       "1  [{'city': 'Poznań', 'street': 'Krolowej Jadwig...     redirect  \n",
       "\n",
       "[2 rows x 24 columns]"
      ]
     },
     "execution_count": 4,
     "metadata": {},
     "output_type": "execute_result"
    }
   ],
   "source": [
    "# Load json to df using .json_normalize\n",
    "json_normalize = pd.json_normalize(json)\n",
    "json_normalize.head(2)"
   ]
  },
  {
   "cell_type": "markdown",
   "id": "51969d99",
   "metadata": {},
   "source": [
    "We have some records that contain nested records. We can use json_normalize once again, this time with parameters\n",
    "- record_path - allows to indicate a nested field\n",
    "- meta - concatenates additional columns that are not nested"
   ]
  },
  {
   "cell_type": "code",
   "execution_count": 5,
   "id": "2bbca567",
   "metadata": {},
   "outputs": [
    {
     "data": {
      "text/html": [
       "<div>\n",
       "<style scoped>\n",
       "    .dataframe tbody tr th:only-of-type {\n",
       "        vertical-align: middle;\n",
       "    }\n",
       "\n",
       "    .dataframe tbody tr th {\n",
       "        vertical-align: top;\n",
       "    }\n",
       "\n",
       "    .dataframe thead th {\n",
       "        text-align: right;\n",
       "    }\n",
       "</style>\n",
       "<table border=\"1\" class=\"dataframe\">\n",
       "  <thead>\n",
       "    <tr style=\"text-align: right;\">\n",
       "      <th></th>\n",
       "      <th>type</th>\n",
       "      <th>salary</th>\n",
       "      <th>salary.from</th>\n",
       "      <th>salary.to</th>\n",
       "      <th>salary.currency</th>\n",
       "      <th>id</th>\n",
       "      <th>title</th>\n",
       "      <th>marker_icon</th>\n",
       "      <th>workplace_type</th>\n",
       "      <th>remote</th>\n",
       "      <th>published_at</th>\n",
       "      <th>experience_level</th>\n",
       "    </tr>\n",
       "  </thead>\n",
       "  <tbody>\n",
       "    <tr>\n",
       "      <th>0</th>\n",
       "      <td>permanent</td>\n",
       "      <td>NaN</td>\n",
       "      <td>NaN</td>\n",
       "      <td>NaN</td>\n",
       "      <td>NaN</td>\n",
       "      <td>leverx-group-net-developer</td>\n",
       "      <td>.NET Developer</td>\n",
       "      <td>net</td>\n",
       "      <td>remote</td>\n",
       "      <td>True</td>\n",
       "      <td>2022-06-19T16:00:13.900Z</td>\n",
       "      <td>mid</td>\n",
       "    </tr>\n",
       "    <tr>\n",
       "      <th>1</th>\n",
       "      <td>permanent</td>\n",
       "      <td>NaN</td>\n",
       "      <td>9500.0</td>\n",
       "      <td>11000.0</td>\n",
       "      <td>pln</td>\n",
       "      <td>guestline-application-support-specialist-poznan</td>\n",
       "      <td>Application Support Specialist</td>\n",
       "      <td>support</td>\n",
       "      <td>partly_remote</td>\n",
       "      <td>False</td>\n",
       "      <td>2022-06-19T16:00:13.900Z</td>\n",
       "      <td>junior</td>\n",
       "    </tr>\n",
       "    <tr>\n",
       "      <th>2</th>\n",
       "      <td>permanent</td>\n",
       "      <td>NaN</td>\n",
       "      <td>NaN</td>\n",
       "      <td>NaN</td>\n",
       "      <td>NaN</td>\n",
       "      <td>leverx-group-sap-successfactors-consultant</td>\n",
       "      <td>SAP SuccessFactors Consultant</td>\n",
       "      <td>erp</td>\n",
       "      <td>remote</td>\n",
       "      <td>True</td>\n",
       "      <td>2022-06-19T16:00:13.900Z</td>\n",
       "      <td>mid</td>\n",
       "    </tr>\n",
       "    <tr>\n",
       "      <th>3</th>\n",
       "      <td>b2b</td>\n",
       "      <td>NaN</td>\n",
       "      <td>12000.0</td>\n",
       "      <td>16000.0</td>\n",
       "      <td>pln</td>\n",
       "      <td>devsdata-llc-junior-mid-frontend-developer</td>\n",
       "      <td>Junior/Mid Frontend Developer</td>\n",
       "      <td>javascript</td>\n",
       "      <td>remote</td>\n",
       "      <td>True</td>\n",
       "      <td>2022-06-19T16:00:13.900Z</td>\n",
       "      <td>mid</td>\n",
       "    </tr>\n",
       "    <tr>\n",
       "      <th>4</th>\n",
       "      <td>permanent</td>\n",
       "      <td>NaN</td>\n",
       "      <td>2500.0</td>\n",
       "      <td>5000.0</td>\n",
       "      <td>eur</td>\n",
       "      <td>inpsyde-gmbh-wordpress-front-end-developer-remote</td>\n",
       "      <td>Senior WordPress BlockEditor Front-end Developer</td>\n",
       "      <td>javascript</td>\n",
       "      <td>remote</td>\n",
       "      <td>True</td>\n",
       "      <td>2022-06-19T16:00:13.900Z</td>\n",
       "      <td>senior</td>\n",
       "    </tr>\n",
       "  </tbody>\n",
       "</table>\n",
       "</div>"
      ],
      "text/plain": [
       "        type  salary  salary.from  salary.to salary.currency  \\\n",
       "0  permanent     NaN          NaN        NaN             NaN   \n",
       "1  permanent     NaN       9500.0    11000.0             pln   \n",
       "2  permanent     NaN          NaN        NaN             NaN   \n",
       "3        b2b     NaN      12000.0    16000.0             pln   \n",
       "4  permanent     NaN       2500.0     5000.0             eur   \n",
       "\n",
       "                                                  id  \\\n",
       "0                         leverx-group-net-developer   \n",
       "1    guestline-application-support-specialist-poznan   \n",
       "2         leverx-group-sap-successfactors-consultant   \n",
       "3         devsdata-llc-junior-mid-frontend-developer   \n",
       "4  inpsyde-gmbh-wordpress-front-end-developer-remote   \n",
       "\n",
       "                                              title marker_icon  \\\n",
       "0                                    .NET Developer         net   \n",
       "1                    Application Support Specialist     support   \n",
       "2                     SAP SuccessFactors Consultant         erp   \n",
       "3                     Junior/Mid Frontend Developer  javascript   \n",
       "4  Senior WordPress BlockEditor Front-end Developer  javascript   \n",
       "\n",
       "  workplace_type remote              published_at experience_level  \n",
       "0         remote   True  2022-06-19T16:00:13.900Z              mid  \n",
       "1  partly_remote  False  2022-06-19T16:00:13.900Z           junior  \n",
       "2         remote   True  2022-06-19T16:00:13.900Z              mid  \n",
       "3         remote   True  2022-06-19T16:00:13.900Z              mid  \n",
       "4         remote   True  2022-06-19T16:00:13.900Z           senior  "
      ]
     },
     "execution_count": 5,
     "metadata": {},
     "output_type": "execute_result"
    }
   ],
   "source": [
    "df = pd.json_normalize(json, record_path='employment_types', meta=['id', 'title', 'marker_icon', 'workplace_type',\n",
    "                                                                   'remote', 'published_at', 'experience_level'])\n",
    "df.head()"
   ]
  },
  {
   "cell_type": "code",
   "execution_count": 6,
   "id": "0b9e0a59",
   "metadata": {},
   "outputs": [
    {
     "data": {
      "text/plain": [
       "id                   object\n",
       "title                object\n",
       "marker_icon          object\n",
       "experience_level     object\n",
       "workplace_type       object\n",
       "remote               object\n",
       "published_at         object\n",
       "type                 object\n",
       "salary.from         float64\n",
       "salary.to           float64\n",
       "salary.currency      object\n",
       "dtype: object"
      ]
     },
     "execution_count": 6,
     "metadata": {},
     "output_type": "execute_result"
    }
   ],
   "source": [
    "# Reorder columns and get rid of \"salary\" column\n",
    "df = df.reindex(columns=['id', 'title', 'marker_icon', 'experience_level', 'workplace_type', 'remote', 'published_at',\n",
    "                        'type', 'salary.from', 'salary.to', 'salary.currency'])\n",
    "# Check data types\n",
    "df.dtypes"
   ]
  },
  {
   "cell_type": "code",
   "execution_count": 7,
   "id": "b90f9b80",
   "metadata": {},
   "outputs": [],
   "source": [
    "# Convert columns to specified formats\n",
    "df['remote'] = df['remote'].astype('bool')\n",
    "df['published_at'] = pd.to_datetime(df['published_at'], utc=False)"
   ]
  },
  {
   "cell_type": "code",
   "execution_count": 8,
   "id": "14fcaebe",
   "metadata": {},
   "outputs": [
    {
     "data": {
      "text/html": [
       "<div>\n",
       "<style scoped>\n",
       "    .dataframe tbody tr th:only-of-type {\n",
       "        vertical-align: middle;\n",
       "    }\n",
       "\n",
       "    .dataframe tbody tr th {\n",
       "        vertical-align: top;\n",
       "    }\n",
       "\n",
       "    .dataframe thead th {\n",
       "        text-align: right;\n",
       "    }\n",
       "</style>\n",
       "<table border=\"1\" class=\"dataframe\">\n",
       "  <thead>\n",
       "    <tr style=\"text-align: right;\">\n",
       "      <th></th>\n",
       "      <th>id</th>\n",
       "      <th>title</th>\n",
       "      <th>marker_icon</th>\n",
       "      <th>experience_level</th>\n",
       "      <th>workplace_type</th>\n",
       "      <th>remote</th>\n",
       "      <th>published_at</th>\n",
       "      <th>type</th>\n",
       "      <th>salary.from</th>\n",
       "      <th>salary.to</th>\n",
       "      <th>salary.currency</th>\n",
       "    </tr>\n",
       "  </thead>\n",
       "  <tbody>\n",
       "    <tr>\n",
       "      <th>0</th>\n",
       "      <td>leverx-group-net-developer</td>\n",
       "      <td>.NET Developer</td>\n",
       "      <td>net</td>\n",
       "      <td>mid</td>\n",
       "      <td>remote</td>\n",
       "      <td>True</td>\n",
       "      <td>2022-06-19 16:00:13.900000+00:00</td>\n",
       "      <td>permanent</td>\n",
       "      <td>NaN</td>\n",
       "      <td>NaN</td>\n",
       "      <td>NaN</td>\n",
       "    </tr>\n",
       "    <tr>\n",
       "      <th>1</th>\n",
       "      <td>guestline-application-support-specialist-poznan</td>\n",
       "      <td>Application Support Specialist</td>\n",
       "      <td>support</td>\n",
       "      <td>junior</td>\n",
       "      <td>partly_remote</td>\n",
       "      <td>False</td>\n",
       "      <td>2022-06-19 16:00:13.900000+00:00</td>\n",
       "      <td>permanent</td>\n",
       "      <td>9500.0</td>\n",
       "      <td>11000.0</td>\n",
       "      <td>pln</td>\n",
       "    </tr>\n",
       "    <tr>\n",
       "      <th>2</th>\n",
       "      <td>leverx-group-sap-successfactors-consultant</td>\n",
       "      <td>SAP SuccessFactors Consultant</td>\n",
       "      <td>erp</td>\n",
       "      <td>mid</td>\n",
       "      <td>remote</td>\n",
       "      <td>True</td>\n",
       "      <td>2022-06-19 16:00:13.900000+00:00</td>\n",
       "      <td>permanent</td>\n",
       "      <td>NaN</td>\n",
       "      <td>NaN</td>\n",
       "      <td>NaN</td>\n",
       "    </tr>\n",
       "    <tr>\n",
       "      <th>3</th>\n",
       "      <td>devsdata-llc-junior-mid-frontend-developer</td>\n",
       "      <td>Junior/Mid Frontend Developer</td>\n",
       "      <td>javascript</td>\n",
       "      <td>mid</td>\n",
       "      <td>remote</td>\n",
       "      <td>True</td>\n",
       "      <td>2022-06-19 16:00:13.900000+00:00</td>\n",
       "      <td>b2b</td>\n",
       "      <td>12000.0</td>\n",
       "      <td>16000.0</td>\n",
       "      <td>pln</td>\n",
       "    </tr>\n",
       "    <tr>\n",
       "      <th>4</th>\n",
       "      <td>inpsyde-gmbh-wordpress-front-end-developer-remote</td>\n",
       "      <td>Senior WordPress BlockEditor Front-end Developer</td>\n",
       "      <td>javascript</td>\n",
       "      <td>senior</td>\n",
       "      <td>remote</td>\n",
       "      <td>True</td>\n",
       "      <td>2022-06-19 16:00:13.900000+00:00</td>\n",
       "      <td>permanent</td>\n",
       "      <td>2500.0</td>\n",
       "      <td>5000.0</td>\n",
       "      <td>eur</td>\n",
       "    </tr>\n",
       "  </tbody>\n",
       "</table>\n",
       "</div>"
      ],
      "text/plain": [
       "                                                  id  \\\n",
       "0                         leverx-group-net-developer   \n",
       "1    guestline-application-support-specialist-poznan   \n",
       "2         leverx-group-sap-successfactors-consultant   \n",
       "3         devsdata-llc-junior-mid-frontend-developer   \n",
       "4  inpsyde-gmbh-wordpress-front-end-developer-remote   \n",
       "\n",
       "                                              title marker_icon  \\\n",
       "0                                    .NET Developer         net   \n",
       "1                    Application Support Specialist     support   \n",
       "2                     SAP SuccessFactors Consultant         erp   \n",
       "3                     Junior/Mid Frontend Developer  javascript   \n",
       "4  Senior WordPress BlockEditor Front-end Developer  javascript   \n",
       "\n",
       "  experience_level workplace_type  remote                     published_at  \\\n",
       "0              mid         remote    True 2022-06-19 16:00:13.900000+00:00   \n",
       "1           junior  partly_remote   False 2022-06-19 16:00:13.900000+00:00   \n",
       "2              mid         remote    True 2022-06-19 16:00:13.900000+00:00   \n",
       "3              mid         remote    True 2022-06-19 16:00:13.900000+00:00   \n",
       "4           senior         remote    True 2022-06-19 16:00:13.900000+00:00   \n",
       "\n",
       "        type  salary.from  salary.to salary.currency  \n",
       "0  permanent          NaN        NaN             NaN  \n",
       "1  permanent       9500.0    11000.0             pln  \n",
       "2  permanent          NaN        NaN             NaN  \n",
       "3        b2b      12000.0    16000.0             pln  \n",
       "4  permanent       2500.0     5000.0             eur  "
      ]
     },
     "execution_count": 8,
     "metadata": {},
     "output_type": "execute_result"
    }
   ],
   "source": [
    "df.head()"
   ]
  },
  {
   "cell_type": "code",
   "execution_count": 9,
   "id": "c9e1f590",
   "metadata": {},
   "outputs": [],
   "source": [
    "# Filter DataFrame for offers (Javascript, Mid-Senior, B2B)\n",
    "#df = df[df['title'].str.contains('Frontend Developer', case=False)]\n",
    "df = df.loc[(df['type'] == 'b2b') & (df['experience_level'] != 'junior')\n",
    "            & (df['salary.currency'] == 'pln') & (df['salary.to'].notnull()) & (df['marker_icon'] == 'javascript')]"
   ]
  },
  {
   "cell_type": "markdown",
   "id": "74605ccd",
   "metadata": {},
   "source": [
    "### 2. Exploring the dataset"
   ]
  },
  {
   "cell_type": "code",
   "execution_count": 10,
   "id": "554724b6",
   "metadata": {},
   "outputs": [
    {
     "data": {
      "text/html": [
       "<div>\n",
       "<style scoped>\n",
       "    .dataframe tbody tr th:only-of-type {\n",
       "        vertical-align: middle;\n",
       "    }\n",
       "\n",
       "    .dataframe tbody tr th {\n",
       "        vertical-align: top;\n",
       "    }\n",
       "\n",
       "    .dataframe thead th {\n",
       "        text-align: right;\n",
       "    }\n",
       "</style>\n",
       "<table border=\"1\" class=\"dataframe\">\n",
       "  <thead>\n",
       "    <tr style=\"text-align: right;\">\n",
       "      <th></th>\n",
       "      <th>salary.from</th>\n",
       "      <th>salary.to</th>\n",
       "    </tr>\n",
       "  </thead>\n",
       "  <tbody>\n",
       "    <tr>\n",
       "      <th>count</th>\n",
       "      <td>1342.000000</td>\n",
       "      <td>1342.000000</td>\n",
       "    </tr>\n",
       "    <tr>\n",
       "      <th>mean</th>\n",
       "      <td>16059.292101</td>\n",
       "      <td>22836.948584</td>\n",
       "    </tr>\n",
       "    <tr>\n",
       "      <th>std</th>\n",
       "      <td>5038.200325</td>\n",
       "      <td>5468.937167</td>\n",
       "    </tr>\n",
       "    <tr>\n",
       "      <th>min</th>\n",
       "      <td>5500.000000</td>\n",
       "      <td>10500.000000</td>\n",
       "    </tr>\n",
       "    <tr>\n",
       "      <th>25%</th>\n",
       "      <td>12000.000000</td>\n",
       "      <td>18480.000000</td>\n",
       "    </tr>\n",
       "    <tr>\n",
       "      <th>50%</th>\n",
       "      <td>15700.000000</td>\n",
       "      <td>23000.000000</td>\n",
       "    </tr>\n",
       "    <tr>\n",
       "      <th>75%</th>\n",
       "      <td>20000.000000</td>\n",
       "      <td>26500.000000</td>\n",
       "    </tr>\n",
       "    <tr>\n",
       "      <th>max</th>\n",
       "      <td>48000.000000</td>\n",
       "      <td>52000.000000</td>\n",
       "    </tr>\n",
       "  </tbody>\n",
       "</table>\n",
       "</div>"
      ],
      "text/plain": [
       "        salary.from     salary.to\n",
       "count   1342.000000   1342.000000\n",
       "mean   16059.292101  22836.948584\n",
       "std     5038.200325   5468.937167\n",
       "min     5500.000000  10500.000000\n",
       "25%    12000.000000  18480.000000\n",
       "50%    15700.000000  23000.000000\n",
       "75%    20000.000000  26500.000000\n",
       "max    48000.000000  52000.000000"
      ]
     },
     "execution_count": 10,
     "metadata": {},
     "output_type": "execute_result"
    }
   ],
   "source": [
    "df.describe()"
   ]
  },
  {
   "cell_type": "code",
   "execution_count": 11,
   "id": "77ed8cb4",
   "metadata": {},
   "outputs": [
    {
     "data": {
      "text/plain": [
       "<function matplotlib.pyplot.close(fig=None)>"
      ]
     },
     "execution_count": 11,
     "metadata": {},
     "output_type": "execute_result"
    },
    {
     "data": {
      "image/png": "[encoded data removed]",
      "text/plain": [
       "<Figure size 432x288 with 1 Axes>"
      ]
     },
     "metadata": {
      "needs_background": "light"
     },
     "output_type": "display_data"
    }
   ],
   "source": [
    "sns.distplot(df['salary.to'], bins=10, kde=True)\n",
    "plt.close"
   ]
  },
  {
   "cell_type": "markdown",
   "id": "d0d3686f",
   "metadata": {},
   "source": [
    "Distribution resembles a normal distribution with a positive skewness (outliers on the right). However, let's apply Central Limit Theorem to make the data normally distributed so we can use z-score in order to calculate confidence interval."
   ]
  },
  {
   "cell_type": "code",
   "execution_count": 12,
   "id": "29c24814",
   "metadata": {},
   "outputs": [],
   "source": [
    "# Initialize random seed to make the results reproducible\n",
    "np.random.seed(99)\n",
    "\n",
    "# Initialize an empty list to store sample means\n",
    "sample_means = []\n",
    "\n",
    "# Generate sampling distribution of 40 sample means made from samples of size 10:\n",
    "for i in range(40):\n",
    "    sample = np.random.choice(df['salary.to'].to_numpy(), size=10)\n",
    "    sample_means.append(sample.mean())\n",
    "    \n",
    "# Convert list to numpy array\n",
    "sample_means = np.array(sample_means)"
   ]
  },
  {
   "cell_type": "code",
   "execution_count": 13,
   "id": "fa620318",
   "metadata": {},
   "outputs": [
    {
     "data": {
      "text/plain": [
       "<function matplotlib.pyplot.close(fig=None)>"
      ]
     },
     "execution_count": 13,
     "metadata": {},
     "output_type": "execute_result"
    },
    {
     "data": {
      "image/png": "[encoded data removed]",
      "text/plain": [
       "<Figure size 432x288 with 1 Axes>"
      ]
     },
     "metadata": {
      "needs_background": "light"
     },
     "output_type": "display_data"
    }
   ],
   "source": [
    "sns.distplot(sample_means, bins=10, kde=True)\n",
    "plt.close"
   ]
  },
  {
   "cell_type": "markdown",
   "id": "7462c537",
   "metadata": {},
   "source": [
    "We can see know that the sampling distribution follows a normal distribution"
   ]
  },
  {
   "cell_type": "markdown",
   "id": "16124e28",
   "metadata": {},
   "source": [
    "### 3. Calculating confidence interval"
   ]
  },
  {
   "attachments": {},
   "cell_type": "markdown",
   "id": "e3387cc5",
   "metadata": {},
   "source": [
    "Some facts about our sampling distribution:\n",
    "- size of samples is 40 (t-distribution and z-distribution look the same after size 30, so we will use z-table)\n",
    "- we don't know population variance/standard deviation (in the standard error formula we will use standard deviation of a sample instead of a population)\n",
    "\n",
    "Formula for two-tailed confidence interval with z-table. Z needs to be divided by 2 because we have two-tailed test:\n",
    "\n",
    "![CI Formula Z-statisitc](https://d138zd1ktt9iqe.cloudfront.net/media/seo_landing_files/confidence-interval-formula-1619606846.png)"
   ]
  },
  {
   "cell_type": "code",
   "execution_count": 25,
   "id": "add3e641",
   "metadata": {},
   "outputs": [],
   "source": [
    "# Calculate confidence interval for 95% level of confidence\n",
    "import scipy.stats\n",
    "\n",
    "sample_mean = sample_means.mean()\n",
    "sample_size = len(sample_means)\n",
    "# 1 - alpha/2\n",
    "z_critical = scipy.stats.norm.ppf(1-.05/2)\n",
    "sample_std = np.std(sample_means)\n",
    "\n",
    "confidence_intervals = [sample_mean+z_critical*(sample_std/np.sqrt(sample_size))]"
   ]
  },
  {
   "cell_type": "code",
   "execution_count": 26,
   "id": "6bca2e4e",
   "metadata": {},
   "outputs": [
    {
     "data": {
      "text/plain": [
       "[22844.877173314122]"
      ]
     },
     "execution_count": 26,
     "metadata": {},
     "output_type": "execute_result"
    }
   ],
   "source": [
    "confidence_intervals"
   ]
  },
  {
   "cell_type": "code",
   "execution_count": null,
   "id": "19204c0b",
   "metadata": {},
   "outputs": [],
   "source": []
  }
 ],
 "metadata": {
  "kernelspec": {
   "display_name": "Python 3 (ipykernel)",
   "language": "python",
   "name": "python3"
  },
  "language_info": {
   "codemirror_mode": {
    "name": "ipython",
    "version": 3
   },
   "file_extension": ".py",
   "mimetype": "text/x-python",
   "name": "python",
   "nbconvert_exporter": "python",
   "pygments_lexer": "ipython3",
   "version": "3.9.12"
  }
 },
 "nbformat": 4,
 "nbformat_minor": 5
}
